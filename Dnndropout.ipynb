{
  "nbformat": 4,
  "nbformat_minor": 0,
  "metadata": {
    "colab": {
      "name": "Dnndropout.ipynb",
      "provenance": [],
      "collapsed_sections": []
    },
    "kernelspec": {
      "name": "python3",
      "display_name": "Python 3"
    }
  },
  "cells": [
    {
      "cell_type": "markdown",
      "metadata": {
        "id": "agzNxNanno8-",
        "colab_type": "text"
      },
      "source": [
        "HOUSING PRICE"
      ]
    },
    {
      "cell_type": "code",
      "metadata": {
        "id": "VUQ9IX07Q7ze",
        "colab_type": "code",
        "colab": {}
      },
      "source": [
        "import numpy as np\n",
        "import pandas as pd\n",
        "import matplotlib.pyplot as plt "
      ],
      "execution_count": 0,
      "outputs": []
    },
    {
      "cell_type": "code",
      "metadata": {
        "id": "n7s2hC_4RNn7",
        "colab_type": "code",
        "colab": {}
      },
      "source": [
        "from sklearn.datasets import load_boston"
      ],
      "execution_count": 0,
      "outputs": []
    },
    {
      "cell_type": "code",
      "metadata": {
        "id": "m8_o2YbhReML",
        "colab_type": "code",
        "colab": {
          "base_uri": "https://localhost:8080/",
          "height": 62
        },
        "outputId": "09cd8ca4-4842-4996-8446-97329d734ee5"
      },
      "source": [
        "import tensorflow as tf\n",
        "from tensorflow import keras"
      ],
      "execution_count": 3,
      "outputs": [
        {
          "output_type": "display_data",
          "data": {
            "text/html": [
              "<p style=\"color: red;\">\n",
              "The default version of TensorFlow in Colab will soon switch to TensorFlow 2.x.<br>\n",
              "We recommend you <a href=\"https://www.tensorflow.org/guide/migrate\" target=\"_blank\">upgrade</a> now \n",
              "or ensure your notebook will continue to use TensorFlow 1.x via the <code>%tensorflow_version 1.x</code> magic:\n",
              "<a href=\"https://colab.research.google.com/notebooks/tensorflow_version.ipynb\" target=\"_blank\">more info</a>.</p>\n"
            ],
            "text/plain": [
              "<IPython.core.display.HTML object>"
            ]
          },
          "metadata": {
            "tags": []
          }
        }
      ]
    },
    {
      "cell_type": "code",
      "metadata": {
        "id": "PJtXarwKRp8T",
        "colab_type": "code",
        "colab": {}
      },
      "source": [
        "tf.set_random_seed(42)\n",
        "np.random.seed(42)"
      ],
      "execution_count": 0,
      "outputs": []
    },
    {
      "cell_type": "code",
      "metadata": {
        "id": "065uBTksR3q0",
        "colab_type": "code",
        "colab": {}
      },
      "source": [
        "\n",
        "bostonData=load_boston()"
      ],
      "execution_count": 0,
      "outputs": []
    },
    {
      "cell_type": "code",
      "metadata": {
        "id": "jQ3-VVHfSEOW",
        "colab_type": "code",
        "colab": {}
      },
      "source": [
        "x=bostonData.data\n",
        "y=bostonData.target"
      ],
      "execution_count": 0,
      "outputs": []
    },
    {
      "cell_type": "code",
      "metadata": {
        "id": "0XNlR2WPSQKR",
        "colab_type": "code",
        "colab": {}
      },
      "source": [
        "from sklearn.model_selection import train_test_split\n",
        "x_train,x_test,y_train,y_test=train_test_split(x,y,test_size=0.2,random_state=42)"
      ],
      "execution_count": 0,
      "outputs": []
    },
    {
      "cell_type": "code",
      "metadata": {
        "id": "Yn3FAwnlS9r4",
        "colab_type": "code",
        "colab": {}
      },
      "source": [
        "\n",
        "from sklearn.preprocessing import StandardScaler\n",
        "sc=StandardScaler()"
      ],
      "execution_count": 0,
      "outputs": []
    },
    {
      "cell_type": "code",
      "metadata": {
        "id": "cQj-4Ir4TI0A",
        "colab_type": "code",
        "outputId": "e87d9d25-906e-47f5-c202-0af3bd034110",
        "colab": {
          "base_uri": "https://localhost:8080/",
          "height": 34
        }
      },
      "source": [
        "sc.fit(x_train)"
      ],
      "execution_count": 9,
      "outputs": [
        {
          "output_type": "execute_result",
          "data": {
            "text/plain": [
              "StandardScaler(copy=True, with_mean=True, with_std=True)"
            ]
          },
          "metadata": {
            "tags": []
          },
          "execution_count": 9
        }
      ]
    },
    {
      "cell_type": "code",
      "metadata": {
        "id": "t-BbhArhTQmL",
        "colab_type": "code",
        "colab": {}
      },
      "source": [
        "x_train_std=sc.transform(x_train)\n",
        "x_test_std=sc.transform(x_test)"
      ],
      "execution_count": 0,
      "outputs": []
    },
    {
      "cell_type": "code",
      "metadata": {
        "id": "__BOl4fsTfQT",
        "colab_type": "code",
        "colab": {
          "base_uri": "https://localhost:8080/",
          "height": 87
        },
        "outputId": "676fbeca-f604-4b88-c958-682d216c46a5"
      },
      "source": [
        "model_DNN=keras.models.Sequential()\n",
        "model_DNN.add(keras.layers.Dense(units=15,activation='relu',input_shape=x_train.shape[1:]))"
      ],
      "execution_count": 11,
      "outputs": [
        {
          "output_type": "stream",
          "text": [
            "WARNING:tensorflow:From /usr/local/lib/python3.6/dist-packages/tensorflow_core/python/ops/resource_variable_ops.py:1630: calling BaseResourceVariable.__init__ (from tensorflow.python.ops.resource_variable_ops) with constraint is deprecated and will be removed in a future version.\n",
            "Instructions for updating:\n",
            "If using Keras pass *_constraint arguments to layers.\n"
          ],
          "name": "stdout"
        }
      ]
    },
    {
      "cell_type": "code",
      "metadata": {
        "id": "EoXTAgziUU1v",
        "colab_type": "code",
        "outputId": "344d379f-ccee-41af-bedf-4b7668e145c8",
        "colab": {
          "base_uri": "https://localhost:8080/",
          "height": 386
        }
      },
      "source": [
        "# Dropout layer with 10% of nodes being discarded in each training step.\n",
        "model_DNN.add(keras.layers.Dropout(0.1))\n",
        "model_DNN.add(keras.layers.Dense(units=12, activation='relu'))\n",
        "# Dropout layer with 10% of nodes being discarded in each training step.\n",
        "model_DNN.add(keras.layers.Dropout(0.1))\n",
        "model_DNN.add(keras.layers.Dense(units=8, activation='relu'))\n",
        "model_DNN.add(keras.layers.Dense(units=4, activation='relu'))\n",
        "# Output layer definitions\n",
        "model_DNN.add(keras.layers.Dense(units=1, activation='linear'))\n",
        "# Print the summary of network architecture\n",
        "model_DNN.summary()"
      ],
      "execution_count": 12,
      "outputs": [
        {
          "output_type": "stream",
          "text": [
            "Model: \"sequential\"\n",
            "_________________________________________________________________\n",
            "Layer (type)                 Output Shape              Param #   \n",
            "=================================================================\n",
            "dense (Dense)                (None, 15)                210       \n",
            "_________________________________________________________________\n",
            "dropout (Dropout)            (None, 15)                0         \n",
            "_________________________________________________________________\n",
            "dense_1 (Dense)              (None, 12)                192       \n",
            "_________________________________________________________________\n",
            "dropout_1 (Dropout)          (None, 12)                0         \n",
            "_________________________________________________________________\n",
            "dense_2 (Dense)              (None, 8)                 104       \n",
            "_________________________________________________________________\n",
            "dense_3 (Dense)              (None, 4)                 36        \n",
            "_________________________________________________________________\n",
            "dense_4 (Dense)              (None, 1)                 5         \n",
            "=================================================================\n",
            "Total params: 547\n",
            "Trainable params: 547\n",
            "Non-trainable params: 0\n",
            "_________________________________________________________________\n"
          ],
          "name": "stdout"
        }
      ]
    },
    {
      "cell_type": "code",
      "metadata": {
        "id": "fA-HBXcLUaol",
        "colab_type": "code",
        "outputId": "cd8e54ff-af57-4841-f29d-9044ee10d651",
        "colab": {
          "base_uri": "https://localhost:8080/",
          "height": 1000
        }
      },
      "source": [
        "model_DNN.compile(loss='mse',optimizer='adam',metrics=['mae'])\n",
        "model_DNN.fit(x=x_train_std, y=y_train, validation_split=0.1, epochs=50,batch_size=16)\n",
        "test_loss, test_accuracy = model_DNN.evaluate(x=x_test_std, y=y_test)"
      ],
      "execution_count": 13,
      "outputs": [
        {
          "output_type": "stream",
          "text": [
            "Train on 363 samples, validate on 41 samples\n",
            "Epoch 1/50\n",
            "363/363 [==============================] - 0s 969us/sample - loss: 601.4748 - mean_absolute_error: 22.6360 - val_loss: 591.2322 - val_mean_absolute_error: 22.7821\n",
            "Epoch 2/50\n",
            "363/363 [==============================] - 0s 135us/sample - loss: 593.4258 - mean_absolute_error: 22.4511 - val_loss: 582.4180 - val_mean_absolute_error: 22.5847\n",
            "Epoch 3/50\n",
            "363/363 [==============================] - 0s 131us/sample - loss: 582.9657 - mean_absolute_error: 22.2037 - val_loss: 568.7612 - val_mean_absolute_error: 22.2701\n",
            "Epoch 4/50\n",
            "363/363 [==============================] - 0s 125us/sample - loss: 563.8304 - mean_absolute_error: 21.7337 - val_loss: 542.9872 - val_mean_absolute_error: 21.6579\n",
            "Epoch 5/50\n",
            "363/363 [==============================] - 0s 136us/sample - loss: 529.9432 - mean_absolute_error: 20.8351 - val_loss: 494.6847 - val_mean_absolute_error: 20.4559\n",
            "Epoch 6/50\n",
            "363/363 [==============================] - 0s 125us/sample - loss: 468.0594 - mean_absolute_error: 19.1199 - val_loss: 412.4889 - val_mean_absolute_error: 18.2854\n",
            "Epoch 7/50\n",
            "363/363 [==============================] - 0s 119us/sample - loss: 369.7388 - mean_absolute_error: 16.3161 - val_loss: 295.2175 - val_mean_absolute_error: 14.8326\n",
            "Epoch 8/50\n",
            "363/363 [==============================] - 0s 115us/sample - loss: 258.9286 - mean_absolute_error: 13.0797 - val_loss: 177.6010 - val_mean_absolute_error: 10.5852\n",
            "Epoch 9/50\n",
            "363/363 [==============================] - 0s 119us/sample - loss: 171.6713 - mean_absolute_error: 9.8887 - val_loss: 105.3805 - val_mean_absolute_error: 7.2534\n",
            "Epoch 10/50\n",
            "363/363 [==============================] - 0s 132us/sample - loss: 119.1526 - mean_absolute_error: 8.1035 - val_loss: 77.9694 - val_mean_absolute_error: 6.2640\n",
            "Epoch 11/50\n",
            "363/363 [==============================] - 0s 122us/sample - loss: 89.8108 - mean_absolute_error: 7.1240 - val_loss: 66.1680 - val_mean_absolute_error: 5.7727\n",
            "Epoch 12/50\n",
            "363/363 [==============================] - 0s 136us/sample - loss: 81.0828 - mean_absolute_error: 6.9797 - val_loss: 58.3297 - val_mean_absolute_error: 5.4566\n",
            "Epoch 13/50\n",
            "363/363 [==============================] - 0s 123us/sample - loss: 65.1990 - mean_absolute_error: 6.2062 - val_loss: 52.2330 - val_mean_absolute_error: 5.1168\n",
            "Epoch 14/50\n",
            "363/363 [==============================] - 0s 127us/sample - loss: 60.9770 - mean_absolute_error: 5.9039 - val_loss: 47.5196 - val_mean_absolute_error: 4.8984\n",
            "Epoch 15/50\n",
            "363/363 [==============================] - 0s 116us/sample - loss: 56.3348 - mean_absolute_error: 5.6306 - val_loss: 47.2032 - val_mean_absolute_error: 4.8830\n",
            "Epoch 16/50\n",
            "363/363 [==============================] - 0s 124us/sample - loss: 48.3467 - mean_absolute_error: 5.2757 - val_loss: 45.1789 - val_mean_absolute_error: 4.8194\n",
            "Epoch 17/50\n",
            "363/363 [==============================] - 0s 133us/sample - loss: 43.4954 - mean_absolute_error: 5.1286 - val_loss: 44.8172 - val_mean_absolute_error: 4.8411\n",
            "Epoch 18/50\n",
            "363/363 [==============================] - 0s 133us/sample - loss: 40.2922 - mean_absolute_error: 4.8457 - val_loss: 45.6227 - val_mean_absolute_error: 4.9247\n",
            "Epoch 19/50\n",
            "363/363 [==============================] - 0s 138us/sample - loss: 40.6561 - mean_absolute_error: 4.9099 - val_loss: 44.6515 - val_mean_absolute_error: 4.8830\n",
            "Epoch 20/50\n",
            "363/363 [==============================] - 0s 119us/sample - loss: 39.9165 - mean_absolute_error: 4.8190 - val_loss: 44.3443 - val_mean_absolute_error: 4.8509\n",
            "Epoch 21/50\n",
            "363/363 [==============================] - 0s 121us/sample - loss: 40.9920 - mean_absolute_error: 4.8830 - val_loss: 44.4570 - val_mean_absolute_error: 4.8398\n",
            "Epoch 22/50\n",
            "363/363 [==============================] - 0s 121us/sample - loss: 38.4024 - mean_absolute_error: 4.5752 - val_loss: 43.8706 - val_mean_absolute_error: 4.8082\n",
            "Epoch 23/50\n",
            "363/363 [==============================] - 0s 148us/sample - loss: 39.3237 - mean_absolute_error: 4.7778 - val_loss: 44.3359 - val_mean_absolute_error: 4.7369\n",
            "Epoch 24/50\n",
            "363/363 [==============================] - 0s 123us/sample - loss: 31.8295 - mean_absolute_error: 4.3977 - val_loss: 43.8725 - val_mean_absolute_error: 4.7592\n",
            "Epoch 25/50\n",
            "363/363 [==============================] - 0s 151us/sample - loss: 36.0538 - mean_absolute_error: 4.6038 - val_loss: 41.7895 - val_mean_absolute_error: 4.5811\n",
            "Epoch 26/50\n",
            "363/363 [==============================] - 0s 123us/sample - loss: 36.3561 - mean_absolute_error: 4.7169 - val_loss: 42.6792 - val_mean_absolute_error: 4.6417\n",
            "Epoch 27/50\n",
            "363/363 [==============================] - 0s 124us/sample - loss: 38.1615 - mean_absolute_error: 4.7535 - val_loss: 42.2456 - val_mean_absolute_error: 4.6085\n",
            "Epoch 28/50\n",
            "363/363 [==============================] - 0s 119us/sample - loss: 32.2197 - mean_absolute_error: 4.4074 - val_loss: 41.3194 - val_mean_absolute_error: 4.5389\n",
            "Epoch 29/50\n",
            "363/363 [==============================] - 0s 122us/sample - loss: 32.9061 - mean_absolute_error: 4.4399 - val_loss: 39.7790 - val_mean_absolute_error: 4.4578\n",
            "Epoch 30/50\n",
            "363/363 [==============================] - 0s 139us/sample - loss: 34.8070 - mean_absolute_error: 4.5540 - val_loss: 40.5469 - val_mean_absolute_error: 4.4880\n",
            "Epoch 31/50\n",
            "363/363 [==============================] - 0s 116us/sample - loss: 31.5019 - mean_absolute_error: 4.2167 - val_loss: 41.8364 - val_mean_absolute_error: 4.5709\n",
            "Epoch 32/50\n",
            "363/363 [==============================] - 0s 142us/sample - loss: 34.3303 - mean_absolute_error: 4.3192 - val_loss: 40.2681 - val_mean_absolute_error: 4.4467\n",
            "Epoch 33/50\n",
            "363/363 [==============================] - 0s 151us/sample - loss: 34.0905 - mean_absolute_error: 4.3669 - val_loss: 39.2178 - val_mean_absolute_error: 4.3732\n",
            "Epoch 34/50\n",
            "363/363 [==============================] - 0s 128us/sample - loss: 31.1555 - mean_absolute_error: 4.3320 - val_loss: 38.9906 - val_mean_absolute_error: 4.3721\n",
            "Epoch 35/50\n",
            "363/363 [==============================] - 0s 117us/sample - loss: 32.4378 - mean_absolute_error: 4.2932 - val_loss: 39.3495 - val_mean_absolute_error: 4.4221\n",
            "Epoch 36/50\n",
            "363/363 [==============================] - 0s 123us/sample - loss: 30.5185 - mean_absolute_error: 4.3038 - val_loss: 38.3687 - val_mean_absolute_error: 4.3212\n",
            "Epoch 37/50\n",
            "363/363 [==============================] - 0s 124us/sample - loss: 29.1452 - mean_absolute_error: 4.1776 - val_loss: 37.1812 - val_mean_absolute_error: 4.2287\n",
            "Epoch 38/50\n",
            "363/363 [==============================] - 0s 131us/sample - loss: 32.2526 - mean_absolute_error: 4.3164 - val_loss: 37.8693 - val_mean_absolute_error: 4.3072\n",
            "Epoch 39/50\n",
            "363/363 [==============================] - 0s 114us/sample - loss: 26.9063 - mean_absolute_error: 4.1023 - val_loss: 38.0041 - val_mean_absolute_error: 4.3313\n",
            "Epoch 40/50\n",
            "363/363 [==============================] - 0s 127us/sample - loss: 31.0783 - mean_absolute_error: 4.1556 - val_loss: 38.0846 - val_mean_absolute_error: 4.3105\n",
            "Epoch 41/50\n",
            "363/363 [==============================] - 0s 137us/sample - loss: 29.8598 - mean_absolute_error: 4.1239 - val_loss: 36.7886 - val_mean_absolute_error: 4.2084\n",
            "Epoch 42/50\n",
            "363/363 [==============================] - 0s 125us/sample - loss: 28.8334 - mean_absolute_error: 4.0761 - val_loss: 36.0111 - val_mean_absolute_error: 4.1329\n",
            "Epoch 43/50\n",
            "363/363 [==============================] - 0s 153us/sample - loss: 25.6210 - mean_absolute_error: 3.8977 - val_loss: 35.9499 - val_mean_absolute_error: 4.1358\n",
            "Epoch 44/50\n",
            "363/363 [==============================] - 0s 124us/sample - loss: 27.9884 - mean_absolute_error: 4.0904 - val_loss: 35.4649 - val_mean_absolute_error: 4.0650\n",
            "Epoch 45/50\n",
            "363/363 [==============================] - 0s 144us/sample - loss: 26.4915 - mean_absolute_error: 3.9855 - val_loss: 35.7601 - val_mean_absolute_error: 4.0628\n",
            "Epoch 46/50\n",
            "363/363 [==============================] - 0s 127us/sample - loss: 25.9065 - mean_absolute_error: 3.8064 - val_loss: 34.2072 - val_mean_absolute_error: 3.9380\n",
            "Epoch 47/50\n",
            "363/363 [==============================] - 0s 131us/sample - loss: 23.5597 - mean_absolute_error: 3.7826 - val_loss: 35.1435 - val_mean_absolute_error: 4.0273\n",
            "Epoch 48/50\n",
            "363/363 [==============================] - 0s 136us/sample - loss: 23.4178 - mean_absolute_error: 3.7127 - val_loss: 34.3016 - val_mean_absolute_error: 3.9645\n",
            "Epoch 49/50\n",
            "363/363 [==============================] - 0s 127us/sample - loss: 24.5323 - mean_absolute_error: 3.9130 - val_loss: 33.5524 - val_mean_absolute_error: 3.9413\n",
            "Epoch 50/50\n",
            "363/363 [==============================] - 0s 130us/sample - loss: 24.6698 - mean_absolute_error: 3.8701 - val_loss: 34.5645 - val_mean_absolute_error: 3.9980\n",
            "102/102 [==============================] - 0s 87us/sample - loss: 19.3780 - mean_absolute_error: 2.8568\n"
          ],
          "name": "stdout"
        }
      ]
    },
    {
      "cell_type": "code",
      "metadata": {
        "id": "nqjrQDz_VcOE",
        "colab_type": "code",
        "outputId": "bef3149c-2a0d-47fe-f71f-89c3e3d82f6d",
        "colab": {
          "base_uri": "https://localhost:8080/",
          "height": 34
        }
      },
      "source": [
        "print(test_loss, test_accuracy)\n"
      ],
      "execution_count": 14,
      "outputs": [
        {
          "output_type": "stream",
          "text": [
            "19.37798204608992 2.8567517\n"
          ],
          "name": "stdout"
        }
      ]
    },
    {
      "cell_type": "markdown",
      "metadata": {
        "id": "GoARySAvPMrz",
        "colab_type": "text"
      },
      "source": [
        "WINE DATASET"
      ]
    },
    {
      "cell_type": "code",
      "metadata": {
        "id": "oX7cqZNcV9Th",
        "colab_type": "code",
        "colab": {}
      },
      "source": [
        "from sklearn.datasets import load_wine"
      ],
      "execution_count": 0,
      "outputs": []
    },
    {
      "cell_type": "code",
      "metadata": {
        "id": "msNxwSOkPWmo",
        "colab_type": "code",
        "colab": {}
      },
      "source": [
        "wine_data=load_wine()"
      ],
      "execution_count": 0,
      "outputs": []
    },
    {
      "cell_type": "code",
      "metadata": {
        "id": "agdaJ23rPdbp",
        "colab_type": "code",
        "colab": {}
      },
      "source": [
        "X=wine_data.data\n",
        "y=wine_data.target"
      ],
      "execution_count": 0,
      "outputs": []
    },
    {
      "cell_type": "code",
      "metadata": {
        "id": "pG3eGYSoPy8q",
        "colab_type": "code",
        "colab": {}
      },
      "source": [
        "# Split the data into 80% training and 20% testing\n",
        "from sklearn.model_selection import train_test_split\n",
        "\n"
      ],
      "execution_count": 0,
      "outputs": []
    },
    {
      "cell_type": "code",
      "metadata": {
        "id": "zRl2EEU3QEH-",
        "colab_type": "code",
        "colab": {}
      },
      "source": [
        "\n",
        "X_train, X_test, Y_train, Y_test = train_test_split(X, y, test_size=0.2,stratify=y, random_state=42)\n",
        "# Feature scaling using Standardization\n"
      ],
      "execution_count": 0,
      "outputs": []
    },
    {
      "cell_type": "code",
      "metadata": {
        "id": "uVc6uM67RT5f",
        "colab_type": "code",
        "colab": {}
      },
      "source": [
        "from sklearn.preprocessing import StandardScaler\n",
        "sc = StandardScaler()\n",
        "# Training the feature scaling parameters\n",
        "sc.fit(X_train)\n",
        "# Applying transformations to both training and testing set\n",
        "X_train_std = sc.transform(X_train)\n",
        "X_test_std = sc.transform(X_test)"
      ],
      "execution_count": 0,
      "outputs": []
    },
    {
      "cell_type": "code",
      "metadata": {
        "id": "YrwmE9laT9zk",
        "colab_type": "code",
        "colab": {}
      },
      "source": [
        "# Create neural network using keras API\n",
        "# Sequential() does linear stacking of layers\n",
        "model_DNN = keras.models.Sequential()\n",
        "# Hidden layer definitions\n",
        "model_DNN.add(keras.layers.Dense(units=15, activation='relu', input_shape=\n",
        "X_train.shape[1:]))\n",
        "# Dropout layer with 10% of nodes being discarded in each training step.\n",
        "model_DNN.add(keras.layers.Dropout(0.1))"
      ],
      "execution_count": 0,
      "outputs": []
    },
    {
      "cell_type": "code",
      "metadata": {
        "id": "R3Zws7wVVcYE",
        "colab_type": "code",
        "outputId": "d4cf08c4-81c6-4da4-f6c5-6f6cf78ddb34",
        "colab": {
          "base_uri": "https://localhost:8080/",
          "height": 386
        }
      },
      "source": [
        "\n",
        "\n",
        "\n",
        "\n",
        "\n",
        "model_DNN.add(keras.layers.Dense(units=12, activation='relu'))\n",
        "# Dropout layer with 10% of nodes being discarded in each training step.\n",
        "model_DNN.add(keras.layers.Dropout(0.1))\n",
        "model_DNN.add(keras.layers.Dense(units=8, activation='relu'))\n",
        "model_DNN.add(keras.layers.Dense(units=4, activation='relu'))\n",
        "# Output layer definitions\n",
        "model_DNN.add(keras.layers.Dense(units=3, activation='softmax'))\n",
        "# Print the summary of network architecture\n",
        "model_DNN.summary()"
      ],
      "execution_count": 22,
      "outputs": [
        {
          "output_type": "stream",
          "text": [
            "Model: \"sequential_1\"\n",
            "_________________________________________________________________\n",
            "Layer (type)                 Output Shape              Param #   \n",
            "=================================================================\n",
            "dense_5 (Dense)              (None, 15)                210       \n",
            "_________________________________________________________________\n",
            "dropout_2 (Dropout)          (None, 15)                0         \n",
            "_________________________________________________________________\n",
            "dense_6 (Dense)              (None, 12)                192       \n",
            "_________________________________________________________________\n",
            "dropout_3 (Dropout)          (None, 12)                0         \n",
            "_________________________________________________________________\n",
            "dense_7 (Dense)              (None, 8)                 104       \n",
            "_________________________________________________________________\n",
            "dense_8 (Dense)              (None, 4)                 36        \n",
            "_________________________________________________________________\n",
            "dense_9 (Dense)              (None, 3)                 15        \n",
            "=================================================================\n",
            "Total params: 557\n",
            "Trainable params: 557\n",
            "Non-trainable params: 0\n",
            "_________________________________________________________________\n"
          ],
          "name": "stdout"
        }
      ]
    },
    {
      "cell_type": "code",
      "metadata": {
        "id": "-Nbkq9UuVmHo",
        "colab_type": "code",
        "colab": {}
      },
      "source": [
        "model_DNN.compile(loss='sparse_categorical_crossentropy',optimizer='adam', metrics=['accuracy'])"
      ],
      "execution_count": 0,
      "outputs": []
    },
    {
      "cell_type": "code",
      "metadata": {
        "id": "gOONlWZuVzSk",
        "colab_type": "code",
        "outputId": "d39e41bc-350c-4f13-eee5-3ac49524004f",
        "colab": {
          "base_uri": "https://localhost:8080/",
          "height": 1000
        }
      },
      "source": [
        "model_DNN.fit(x=X_train_std, y=Y_train, validation_split=0.1, epochs=50,batch_size=16)"
      ],
      "execution_count": 24,
      "outputs": [
        {
          "output_type": "stream",
          "text": [
            "Train on 127 samples, validate on 15 samples\n",
            "Epoch 1/50\n",
            "127/127 [==============================] - 0s 2ms/sample - loss: 1.3028 - acc: 0.2047 - val_loss: 1.1878 - val_acc: 0.3333\n",
            "Epoch 2/50\n",
            "127/127 [==============================] - 0s 325us/sample - loss: 1.2570 - acc: 0.2283 - val_loss: 1.1340 - val_acc: 0.3333\n",
            "Epoch 3/50\n",
            "127/127 [==============================] - 0s 245us/sample - loss: 1.1666 - acc: 0.3071 - val_loss: 1.0958 - val_acc: 0.4667\n",
            "Epoch 4/50\n",
            "127/127 [==============================] - 0s 223us/sample - loss: 1.1082 - acc: 0.3307 - val_loss: 1.0806 - val_acc: 0.4000\n",
            "Epoch 5/50\n",
            "127/127 [==============================] - 0s 345us/sample - loss: 1.0743 - acc: 0.4016 - val_loss: 1.0674 - val_acc: 0.4000\n",
            "Epoch 6/50\n",
            "127/127 [==============================] - 0s 249us/sample - loss: 1.0425 - acc: 0.4331 - val_loss: 1.0541 - val_acc: 0.4000\n",
            "Epoch 7/50\n",
            "127/127 [==============================] - 0s 303us/sample - loss: 1.0244 - acc: 0.4882 - val_loss: 1.0389 - val_acc: 0.5333\n",
            "Epoch 8/50\n",
            "127/127 [==============================] - 0s 269us/sample - loss: 0.9796 - acc: 0.5118 - val_loss: 1.0225 - val_acc: 0.6000\n",
            "Epoch 9/50\n",
            "127/127 [==============================] - 0s 379us/sample - loss: 0.9584 - acc: 0.5354 - val_loss: 1.0043 - val_acc: 0.6000\n",
            "Epoch 10/50\n",
            "127/127 [==============================] - 0s 265us/sample - loss: 0.9141 - acc: 0.6142 - val_loss: 0.9878 - val_acc: 0.6000\n",
            "Epoch 11/50\n",
            "127/127 [==============================] - 0s 216us/sample - loss: 0.8851 - acc: 0.6142 - val_loss: 0.9694 - val_acc: 0.6000\n",
            "Epoch 12/50\n",
            "127/127 [==============================] - 0s 334us/sample - loss: 0.8403 - acc: 0.6772 - val_loss: 0.9420 - val_acc: 0.6000\n",
            "Epoch 13/50\n",
            "127/127 [==============================] - 0s 318us/sample - loss: 0.8144 - acc: 0.7244 - val_loss: 0.9107 - val_acc: 0.6667\n",
            "Epoch 14/50\n",
            "127/127 [==============================] - 0s 375us/sample - loss: 0.8147 - acc: 0.6535 - val_loss: 0.8814 - val_acc: 0.6667\n",
            "Epoch 15/50\n",
            "127/127 [==============================] - 0s 459us/sample - loss: 0.7913 - acc: 0.7244 - val_loss: 0.8527 - val_acc: 0.8000\n",
            "Epoch 16/50\n",
            "127/127 [==============================] - 0s 307us/sample - loss: 0.7368 - acc: 0.7244 - val_loss: 0.8196 - val_acc: 0.8667\n",
            "Epoch 17/50\n",
            "127/127 [==============================] - 0s 406us/sample - loss: 0.7117 - acc: 0.7559 - val_loss: 0.7862 - val_acc: 0.9333\n",
            "Epoch 18/50\n",
            "127/127 [==============================] - 0s 598us/sample - loss: 0.7064 - acc: 0.7638 - val_loss: 0.7489 - val_acc: 0.9333\n",
            "Epoch 19/50\n",
            "127/127 [==============================] - 0s 494us/sample - loss: 0.6501 - acc: 0.7795 - val_loss: 0.7183 - val_acc: 0.9333\n",
            "Epoch 20/50\n",
            "127/127 [==============================] - 0s 250us/sample - loss: 0.6400 - acc: 0.8031 - val_loss: 0.6826 - val_acc: 0.9333\n",
            "Epoch 21/50\n",
            "127/127 [==============================] - 0s 256us/sample - loss: 0.6388 - acc: 0.8031 - val_loss: 0.6481 - val_acc: 0.9333\n",
            "Epoch 22/50\n",
            "127/127 [==============================] - 0s 358us/sample - loss: 0.6076 - acc: 0.8268 - val_loss: 0.6155 - val_acc: 0.9333\n",
            "Epoch 23/50\n",
            "127/127 [==============================] - 0s 447us/sample - loss: 0.5649 - acc: 0.8346 - val_loss: 0.5813 - val_acc: 0.9333\n",
            "Epoch 24/50\n",
            "127/127 [==============================] - 0s 469us/sample - loss: 0.5335 - acc: 0.8504 - val_loss: 0.5440 - val_acc: 0.9333\n",
            "Epoch 25/50\n",
            "127/127 [==============================] - 0s 319us/sample - loss: 0.5301 - acc: 0.8819 - val_loss: 0.5117 - val_acc: 1.0000\n",
            "Epoch 26/50\n",
            "127/127 [==============================] - 0s 396us/sample - loss: 0.5009 - acc: 0.9134 - val_loss: 0.4750 - val_acc: 1.0000\n",
            "Epoch 27/50\n",
            "127/127 [==============================] - 0s 534us/sample - loss: 0.5164 - acc: 0.8661 - val_loss: 0.4406 - val_acc: 1.0000\n",
            "Epoch 28/50\n",
            "127/127 [==============================] - 0s 312us/sample - loss: 0.4427 - acc: 0.9213 - val_loss: 0.4037 - val_acc: 1.0000\n",
            "Epoch 29/50\n",
            "127/127 [==============================] - 0s 306us/sample - loss: 0.4130 - acc: 0.9055 - val_loss: 0.3707 - val_acc: 1.0000\n",
            "Epoch 30/50\n",
            "127/127 [==============================] - 0s 393us/sample - loss: 0.3814 - acc: 0.8976 - val_loss: 0.3388 - val_acc: 1.0000\n",
            "Epoch 31/50\n",
            "127/127 [==============================] - 0s 347us/sample - loss: 0.3476 - acc: 0.9370 - val_loss: 0.3017 - val_acc: 1.0000\n",
            "Epoch 32/50\n",
            "127/127 [==============================] - 0s 289us/sample - loss: 0.3265 - acc: 0.9291 - val_loss: 0.2603 - val_acc: 1.0000\n",
            "Epoch 33/50\n",
            "127/127 [==============================] - 0s 256us/sample - loss: 0.2759 - acc: 0.9606 - val_loss: 0.2254 - val_acc: 1.0000\n",
            "Epoch 34/50\n",
            "127/127 [==============================] - 0s 280us/sample - loss: 0.2343 - acc: 0.9528 - val_loss: 0.1894 - val_acc: 1.0000\n",
            "Epoch 35/50\n",
            "127/127 [==============================] - 0s 222us/sample - loss: 0.2250 - acc: 0.9291 - val_loss: 0.1613 - val_acc: 1.0000\n",
            "Epoch 36/50\n",
            "127/127 [==============================] - 0s 261us/sample - loss: 0.2384 - acc: 0.9134 - val_loss: 0.1379 - val_acc: 1.0000\n",
            "Epoch 37/50\n",
            "127/127 [==============================] - 0s 312us/sample - loss: 0.1944 - acc: 0.9449 - val_loss: 0.1154 - val_acc: 1.0000\n",
            "Epoch 38/50\n",
            "127/127 [==============================] - 0s 276us/sample - loss: 0.1526 - acc: 0.9764 - val_loss: 0.1022 - val_acc: 1.0000\n",
            "Epoch 39/50\n",
            "127/127 [==============================] - 0s 411us/sample - loss: 0.1824 - acc: 0.9449 - val_loss: 0.0849 - val_acc: 1.0000\n",
            "Epoch 40/50\n",
            "127/127 [==============================] - 0s 444us/sample - loss: 0.1624 - acc: 0.9370 - val_loss: 0.0713 - val_acc: 1.0000\n",
            "Epoch 41/50\n",
            "127/127 [==============================] - 0s 229us/sample - loss: 0.1398 - acc: 0.9685 - val_loss: 0.0639 - val_acc: 1.0000\n",
            "Epoch 42/50\n",
            "127/127 [==============================] - 0s 302us/sample - loss: 0.1537 - acc: 0.9606 - val_loss: 0.0530 - val_acc: 1.0000\n",
            "Epoch 43/50\n",
            "127/127 [==============================] - 0s 301us/sample - loss: 0.1257 - acc: 0.9606 - val_loss: 0.0448 - val_acc: 1.0000\n",
            "Epoch 44/50\n",
            "127/127 [==============================] - 0s 351us/sample - loss: 0.1297 - acc: 0.9606 - val_loss: 0.0375 - val_acc: 1.0000\n",
            "Epoch 45/50\n",
            "127/127 [==============================] - 0s 261us/sample - loss: 0.1007 - acc: 0.9764 - val_loss: 0.0324 - val_acc: 1.0000\n",
            "Epoch 46/50\n",
            "127/127 [==============================] - 0s 444us/sample - loss: 0.1260 - acc: 0.9685 - val_loss: 0.0303 - val_acc: 1.0000\n",
            "Epoch 47/50\n",
            "127/127 [==============================] - 0s 302us/sample - loss: 0.1340 - acc: 0.9606 - val_loss: 0.0303 - val_acc: 1.0000\n",
            "Epoch 48/50\n",
            "127/127 [==============================] - 0s 167us/sample - loss: 0.0853 - acc: 0.9764 - val_loss: 0.0300 - val_acc: 1.0000\n",
            "Epoch 49/50\n",
            "127/127 [==============================] - 0s 150us/sample - loss: 0.1020 - acc: 0.9685 - val_loss: 0.0292 - val_acc: 1.0000\n",
            "Epoch 50/50\n",
            "127/127 [==============================] - 0s 168us/sample - loss: 0.1207 - acc: 0.9528 - val_loss: 0.0285 - val_acc: 1.0000\n"
          ],
          "name": "stdout"
        },
        {
          "output_type": "execute_result",
          "data": {
            "text/plain": [
              "<tensorflow.python.keras.callbacks.History at 0x7f6cd6d80f60>"
            ]
          },
          "metadata": {
            "tags": []
          },
          "execution_count": 24
        }
      ]
    },
    {
      "cell_type": "code",
      "metadata": {
        "id": "WeDHM1nYV72x",
        "colab_type": "code",
        "outputId": "f89c071e-6d8d-47bc-e879-27d09fd4d207",
        "colab": {
          "base_uri": "https://localhost:8080/",
          "height": 34
        }
      },
      "source": [
        "test_loss, test_accuracy = model_DNN.evaluate(x=X_test_std, y=Y_test)"
      ],
      "execution_count": 25,
      "outputs": [
        {
          "output_type": "stream",
          "text": [
            "36/36 [==============================] - 0s 179us/sample - loss: 0.0590 - acc: 0.9722\n"
          ],
          "name": "stdout"
        }
      ]
    },
    {
      "cell_type": "code",
      "metadata": {
        "id": "YTf8WnyjWPvg",
        "colab_type": "code",
        "outputId": "0de209a0-4f7a-489b-939c-68257344aeb7",
        "colab": {
          "base_uri": "https://localhost:8080/",
          "height": 34
        }
      },
      "source": [
        "print(test_loss,test_accuracy)"
      ],
      "execution_count": 26,
      "outputs": [
        {
          "output_type": "stream",
          "text": [
            "0.058989415048725076 0.9722222\n"
          ],
          "name": "stdout"
        }
      ]
    },
    {
      "cell_type": "markdown",
      "metadata": {
        "id": "4h7U3DEcWudz",
        "colab_type": "text"
      },
      "source": [
        "IRIS DATASET"
      ]
    },
    {
      "cell_type": "code",
      "metadata": {
        "id": "ik7M2XgMWjtT",
        "colab_type": "code",
        "colab": {}
      },
      "source": [
        "from sklearn.datasets import load_iris"
      ],
      "execution_count": 0,
      "outputs": []
    },
    {
      "cell_type": "code",
      "metadata": {
        "id": "xABsJ2grXBOL",
        "colab_type": "code",
        "colab": {}
      },
      "source": [
        "# Loading the dataset\n",
        "irisData = load_iris()\n",
        "\n",
        "# Load the attributes and target in X and y\n",
        "X = irisData.data\n",
        "y = irisData.target\n",
        "\n",
        "# Split the data into 80% training and 20% testing\n",
        "from sklearn.model_selection import train_test_split\n",
        "X_train, X_test, y_train, y_test = train_test_split(X, y, test_size=0.2,stratify=y, random_state=42)"
      ],
      "execution_count": 0,
      "outputs": []
    },
    {
      "cell_type": "code",
      "metadata": {
        "id": "2qdNxxmgXcQ7",
        "colab_type": "code",
        "colab": {}
      },
      "source": [
        "# Feature scaling using Standardization\n",
        "from sklearn.preprocessing import StandardScaler\n",
        "sc = StandardScaler()\n",
        "# Training the feature scaling parameters\n",
        "sc.fit(X_train)\n",
        "# Applying transformations to both training and testing set\n",
        "X_train_std = sc.transform(X_train)\n",
        "X_test_std = sc.transform(X_test)"
      ],
      "execution_count": 0,
      "outputs": []
    },
    {
      "cell_type": "code",
      "metadata": {
        "id": "hp_38-O3X03L",
        "colab_type": "code",
        "outputId": "5fd49835-9597-4d51-cbf9-63115d5e41b9",
        "colab": {
          "base_uri": "https://localhost:8080/",
          "height": 386
        }
      },
      "source": [
        "# Create neural network using keras API\n",
        "# Sequential() does linear stacking of layers\n",
        "model_DNN = keras.models.Sequential()\n",
        "# Hidden layer definitions\n",
        "model_DNN.add(keras.layers.Dense(units=12, activation='relu', input_shape=\n",
        "X_train.shape[1:]))\n",
        "# Dropout layer with 10% of nodes being discarded in each training step.\n",
        "model_DNN.add(keras.layers.Dropout(0.1))\n",
        "model_DNN.add(keras.layers.Dense(units=10, activation='relu'))\n",
        "# Dropout layer with 10% of nodes being discarded in each training step.\n",
        "model_DNN.add(keras.layers.Dropout(0.1))\n",
        "model_DNN.add(keras.layers.Dense(units= 8, activation='relu'))\n",
        "model_DNN.add(keras.layers.Dense(units=6, activation='relu'))\n",
        "# Output layer definitions\n",
        "model_DNN.add(keras.layers.Dense(units=3, activation='softmax'))\n",
        "# Print the summary of network architecture\n",
        "model_DNN.summary()"
      ],
      "execution_count": 30,
      "outputs": [
        {
          "output_type": "stream",
          "text": [
            "Model: \"sequential_2\"\n",
            "_________________________________________________________________\n",
            "Layer (type)                 Output Shape              Param #   \n",
            "=================================================================\n",
            "dense_10 (Dense)             (None, 12)                60        \n",
            "_________________________________________________________________\n",
            "dropout_4 (Dropout)          (None, 12)                0         \n",
            "_________________________________________________________________\n",
            "dense_11 (Dense)             (None, 10)                130       \n",
            "_________________________________________________________________\n",
            "dropout_5 (Dropout)          (None, 10)                0         \n",
            "_________________________________________________________________\n",
            "dense_12 (Dense)             (None, 8)                 88        \n",
            "_________________________________________________________________\n",
            "dense_13 (Dense)             (None, 6)                 54        \n",
            "_________________________________________________________________\n",
            "dense_14 (Dense)             (None, 3)                 21        \n",
            "=================================================================\n",
            "Total params: 353\n",
            "Trainable params: 353\n",
            "Non-trainable params: 0\n",
            "_________________________________________________________________\n"
          ],
          "name": "stdout"
        }
      ]
    },
    {
      "cell_type": "code",
      "metadata": {
        "id": "ge0vTuexY6Rh",
        "colab_type": "code",
        "colab": {}
      },
      "source": [
        "model_DNN.compile(loss='sparse_categorical_crossentropy',optimizer='adam', metrics=['accuracy'])"
      ],
      "execution_count": 0,
      "outputs": []
    },
    {
      "cell_type": "code",
      "metadata": {
        "id": "0Wuxl_iPZSO0",
        "colab_type": "code",
        "outputId": "2739e3fa-dc11-428b-8766-0a81b6cf107f",
        "colab": {
          "base_uri": "https://localhost:8080/",
          "height": 1000
        }
      },
      "source": [
        "model_DNN.fit(x=X_train_std, y=y_train, validation_split=0.1, epochs=50,batch_size=16)"
      ],
      "execution_count": 32,
      "outputs": [
        {
          "output_type": "stream",
          "text": [
            "Train on 108 samples, validate on 12 samples\n",
            "Epoch 1/50\n",
            "108/108 [==============================] - 0s 2ms/sample - loss: 1.0963 - acc: 0.3241 - val_loss: 1.1381 - val_acc: 0.0833\n",
            "Epoch 2/50\n",
            "108/108 [==============================] - 0s 156us/sample - loss: 1.0843 - acc: 0.3333 - val_loss: 1.1269 - val_acc: 0.0833\n",
            "Epoch 3/50\n",
            "108/108 [==============================] - 0s 149us/sample - loss: 1.0695 - acc: 0.3796 - val_loss: 1.1177 - val_acc: 0.0833\n",
            "Epoch 4/50\n",
            "108/108 [==============================] - 0s 144us/sample - loss: 1.0526 - acc: 0.3704 - val_loss: 1.1069 - val_acc: 0.1667\n",
            "Epoch 5/50\n",
            "108/108 [==============================] - 0s 159us/sample - loss: 1.0410 - acc: 0.4259 - val_loss: 1.0975 - val_acc: 0.4167\n",
            "Epoch 6/50\n",
            "108/108 [==============================] - 0s 177us/sample - loss: 1.0220 - acc: 0.5463 - val_loss: 1.0865 - val_acc: 0.5000\n",
            "Epoch 7/50\n",
            "108/108 [==============================] - 0s 164us/sample - loss: 1.0133 - acc: 0.5741 - val_loss: 1.0784 - val_acc: 0.5000\n",
            "Epoch 8/50\n",
            "108/108 [==============================] - 0s 166us/sample - loss: 0.9969 - acc: 0.5833 - val_loss: 1.0656 - val_acc: 0.5833\n",
            "Epoch 9/50\n",
            "108/108 [==============================] - 0s 151us/sample - loss: 0.9847 - acc: 0.6111 - val_loss: 1.0434 - val_acc: 0.5833\n",
            "Epoch 10/50\n",
            "108/108 [==============================] - 0s 211us/sample - loss: 0.9515 - acc: 0.6389 - val_loss: 1.0203 - val_acc: 0.5833\n",
            "Epoch 11/50\n",
            "108/108 [==============================] - 0s 149us/sample - loss: 0.9215 - acc: 0.6481 - val_loss: 0.9962 - val_acc: 0.5833\n",
            "Epoch 12/50\n",
            "108/108 [==============================] - 0s 142us/sample - loss: 0.9106 - acc: 0.6389 - val_loss: 0.9767 - val_acc: 0.5833\n",
            "Epoch 13/50\n",
            "108/108 [==============================] - 0s 134us/sample - loss: 0.8763 - acc: 0.6574 - val_loss: 0.9604 - val_acc: 0.5833\n",
            "Epoch 14/50\n",
            "108/108 [==============================] - 0s 146us/sample - loss: 0.8493 - acc: 0.6667 - val_loss: 0.9303 - val_acc: 0.5833\n",
            "Epoch 15/50\n",
            "108/108 [==============================] - 0s 156us/sample - loss: 0.8239 - acc: 0.6852 - val_loss: 0.8975 - val_acc: 0.5833\n",
            "Epoch 16/50\n",
            "108/108 [==============================] - 0s 158us/sample - loss: 0.8069 - acc: 0.6667 - val_loss: 0.8625 - val_acc: 0.5833\n",
            "Epoch 17/50\n",
            "108/108 [==============================] - 0s 156us/sample - loss: 0.7457 - acc: 0.7037 - val_loss: 0.8166 - val_acc: 0.5833\n",
            "Epoch 18/50\n",
            "108/108 [==============================] - 0s 149us/sample - loss: 0.7179 - acc: 0.6852 - val_loss: 0.7833 - val_acc: 0.5833\n",
            "Epoch 19/50\n",
            "108/108 [==============================] - 0s 131us/sample - loss: 0.7072 - acc: 0.7407 - val_loss: 0.7485 - val_acc: 0.5833\n",
            "Epoch 20/50\n",
            "108/108 [==============================] - 0s 148us/sample - loss: 0.6436 - acc: 0.7130 - val_loss: 0.7156 - val_acc: 0.5833\n",
            "Epoch 21/50\n",
            "108/108 [==============================] - 0s 182us/sample - loss: 0.6642 - acc: 0.6944 - val_loss: 0.6812 - val_acc: 0.5833\n",
            "Epoch 22/50\n",
            "108/108 [==============================] - 0s 146us/sample - loss: 0.6156 - acc: 0.7407 - val_loss: 0.6487 - val_acc: 0.5833\n",
            "Epoch 23/50\n",
            "108/108 [==============================] - 0s 163us/sample - loss: 0.5619 - acc: 0.7593 - val_loss: 0.6289 - val_acc: 0.5833\n",
            "Epoch 24/50\n",
            "108/108 [==============================] - 0s 148us/sample - loss: 0.5686 - acc: 0.7685 - val_loss: 0.6092 - val_acc: 0.5833\n",
            "Epoch 25/50\n",
            "108/108 [==============================] - 0s 192us/sample - loss: 0.5550 - acc: 0.7685 - val_loss: 0.5920 - val_acc: 0.5833\n",
            "Epoch 26/50\n",
            "108/108 [==============================] - 0s 166us/sample - loss: 0.5333 - acc: 0.7685 - val_loss: 0.5760 - val_acc: 0.5833\n",
            "Epoch 27/50\n",
            "108/108 [==============================] - 0s 136us/sample - loss: 0.5242 - acc: 0.7778 - val_loss: 0.5634 - val_acc: 0.6667\n",
            "Epoch 28/50\n",
            "108/108 [==============================] - 0s 172us/sample - loss: 0.5336 - acc: 0.7870 - val_loss: 0.5420 - val_acc: 0.6667\n",
            "Epoch 29/50\n",
            "108/108 [==============================] - 0s 156us/sample - loss: 0.4688 - acc: 0.7870 - val_loss: 0.5298 - val_acc: 0.6667\n",
            "Epoch 30/50\n",
            "108/108 [==============================] - 0s 168us/sample - loss: 0.4943 - acc: 0.7963 - val_loss: 0.5114 - val_acc: 0.7500\n",
            "Epoch 31/50\n",
            "108/108 [==============================] - 0s 143us/sample - loss: 0.4717 - acc: 0.8333 - val_loss: 0.4925 - val_acc: 0.7500\n",
            "Epoch 32/50\n",
            "108/108 [==============================] - 0s 165us/sample - loss: 0.4619 - acc: 0.8241 - val_loss: 0.4837 - val_acc: 0.7500\n",
            "Epoch 33/50\n",
            "108/108 [==============================] - 0s 143us/sample - loss: 0.4411 - acc: 0.8611 - val_loss: 0.4729 - val_acc: 0.7500\n",
            "Epoch 34/50\n",
            "108/108 [==============================] - 0s 146us/sample - loss: 0.4588 - acc: 0.8611 - val_loss: 0.4658 - val_acc: 0.7500\n",
            "Epoch 35/50\n",
            "108/108 [==============================] - 0s 159us/sample - loss: 0.4496 - acc: 0.8611 - val_loss: 0.4616 - val_acc: 0.7500\n",
            "Epoch 36/50\n",
            "108/108 [==============================] - 0s 150us/sample - loss: 0.4064 - acc: 0.8796 - val_loss: 0.4574 - val_acc: 0.7500\n",
            "Epoch 37/50\n",
            "108/108 [==============================] - 0s 157us/sample - loss: 0.4245 - acc: 0.8889 - val_loss: 0.4505 - val_acc: 0.7500\n",
            "Epoch 38/50\n",
            "108/108 [==============================] - 0s 167us/sample - loss: 0.4198 - acc: 0.8519 - val_loss: 0.4354 - val_acc: 0.7500\n",
            "Epoch 39/50\n",
            "108/108 [==============================] - 0s 166us/sample - loss: 0.4124 - acc: 0.8519 - val_loss: 0.4174 - val_acc: 0.8333\n",
            "Epoch 40/50\n",
            "108/108 [==============================] - 0s 155us/sample - loss: 0.3696 - acc: 0.8796 - val_loss: 0.4049 - val_acc: 0.8333\n",
            "Epoch 41/50\n",
            "108/108 [==============================] - 0s 170us/sample - loss: 0.3588 - acc: 0.9167 - val_loss: 0.3968 - val_acc: 0.8333\n",
            "Epoch 42/50\n",
            "108/108 [==============================] - 0s 168us/sample - loss: 0.3790 - acc: 0.8796 - val_loss: 0.3796 - val_acc: 0.8333\n",
            "Epoch 43/50\n",
            "108/108 [==============================] - 0s 174us/sample - loss: 0.3659 - acc: 0.8704 - val_loss: 0.3676 - val_acc: 0.8333\n",
            "Epoch 44/50\n",
            "108/108 [==============================] - 0s 151us/sample - loss: 0.3528 - acc: 0.8704 - val_loss: 0.3548 - val_acc: 0.8333\n",
            "Epoch 45/50\n",
            "108/108 [==============================] - 0s 165us/sample - loss: 0.3517 - acc: 0.8889 - val_loss: 0.3451 - val_acc: 0.8333\n",
            "Epoch 46/50\n",
            "108/108 [==============================] - 0s 166us/sample - loss: 0.3344 - acc: 0.9259 - val_loss: 0.3330 - val_acc: 0.8333\n",
            "Epoch 47/50\n",
            "108/108 [==============================] - 0s 142us/sample - loss: 0.3199 - acc: 0.8981 - val_loss: 0.3353 - val_acc: 0.8333\n",
            "Epoch 48/50\n",
            "108/108 [==============================] - 0s 168us/sample - loss: 0.3275 - acc: 0.8796 - val_loss: 0.3360 - val_acc: 0.8333\n",
            "Epoch 49/50\n",
            "108/108 [==============================] - 0s 186us/sample - loss: 0.3205 - acc: 0.8796 - val_loss: 0.3211 - val_acc: 0.8333\n",
            "Epoch 50/50\n",
            "108/108 [==============================] - 0s 164us/sample - loss: 0.3045 - acc: 0.9167 - val_loss: 0.3080 - val_acc: 0.8333\n"
          ],
          "name": "stdout"
        },
        {
          "output_type": "execute_result",
          "data": {
            "text/plain": [
              "<tensorflow.python.keras.callbacks.History at 0x7f6cd6ccae80>"
            ]
          },
          "metadata": {
            "tags": []
          },
          "execution_count": 32
        }
      ]
    },
    {
      "cell_type": "code",
      "metadata": {
        "id": "dXYKPZHIZcdp",
        "colab_type": "code",
        "outputId": "f5e44dcc-7011-468f-b3e1-c57842aae1f2",
        "colab": {
          "base_uri": "https://localhost:8080/",
          "height": 34
        }
      },
      "source": [
        "\n",
        "\n",
        "\n",
        "test_loss, test_accuracy = model_DNN.evaluate(x=X_test_std, y=y_test)"
      ],
      "execution_count": 33,
      "outputs": [
        {
          "output_type": "stream",
          "text": [
            "\r30/30 [==============================] - 0s 65us/sample - loss: 0.3185 - acc: 0.8667\n"
          ],
          "name": "stdout"
        }
      ]
    },
    {
      "cell_type": "code",
      "metadata": {
        "id": "Zr-zDpxSZnWx",
        "colab_type": "code",
        "outputId": "bd08994c-6476-4c2e-c444-5bbc6e8107d7",
        "colab": {
          "base_uri": "https://localhost:8080/",
          "height": 34
        }
      },
      "source": [
        "\n",
        "\n",
        "print(test_loss,test_accuracy)"
      ],
      "execution_count": 34,
      "outputs": [
        {
          "output_type": "stream",
          "text": [
            "0.3184730112552643 0.8666667\n"
          ],
          "name": "stdout"
        }
      ]
    },
    {
      "cell_type": "markdown",
      "metadata": {
        "id": "ISrjnWjvZ8oG",
        "colab_type": "text"
      },
      "source": [
        "\n",
        "\n",
        "FORESTCOVER"
      ]
    },
    {
      "cell_type": "code",
      "metadata": {
        "id": "UV4EHJEcZvNN",
        "colab_type": "code",
        "colab": {}
      },
      "source": [
        "\n",
        "\n",
        "\n",
        "from sklearn.datasets import fetch_covtype"
      ],
      "execution_count": 0,
      "outputs": []
    },
    {
      "cell_type": "code",
      "metadata": {
        "id": "_mR5V0lyaEwY",
        "colab_type": "code",
        "colab": {
          "base_uri": "https://localhost:8080/",
          "height": 34
        },
        "outputId": "ccc69c12-0363-4915-b93e-f0f35d25d5c3"
      },
      "source": [
        "forest=fetch_covtype()"
      ],
      "execution_count": 36,
      "outputs": [
        {
          "output_type": "stream",
          "text": [
            "Downloading https://ndownloader.figshare.com/files/5976039\n"
          ],
          "name": "stderr"
        }
      ]
    },
    {
      "cell_type": "code",
      "metadata": {
        "id": "RCZfPW--aep2",
        "colab_type": "code",
        "colab": {}
      },
      "source": [
        "x=forest.data\n",
        "y=forest.target\n"
      ],
      "execution_count": 0,
      "outputs": []
    },
    {
      "cell_type": "code",
      "metadata": {
        "id": "M5g9ydwWedzQ",
        "colab_type": "code",
        "colab": {}
      },
      "source": [
        "# Split the data into 80% training and 20% testing\n",
        "from sklearn.model_selection import train_test_split\n",
        "# While splitting, make an unbiased splitting\n",
        "X_train, X_test, y_train, y_test = train_test_split(x, y, test_size=0.2,stratify=y, random_state=42)"
      ],
      "execution_count": 0,
      "outputs": []
    },
    {
      "cell_type": "code",
      "metadata": {
        "id": "BySTGFT7f1Kh",
        "colab_type": "code",
        "colab": {}
      },
      "source": [
        "# Feature scaling using Standardization\n",
        "from sklearn.preprocessing import StandardScaler\n",
        "sc = StandardScaler()\n",
        "# Training the feature scaling parameters\n",
        "sc.fit(X_train)\n",
        "# Applying transformations to both training and testing set\n",
        "X_train_std = sc.transform(X_train)\n",
        "X_test_std = sc.transform(X_test)"
      ],
      "execution_count": 0,
      "outputs": []
    },
    {
      "cell_type": "code",
      "metadata": {
        "id": "u31XY_6mghzo",
        "colab_type": "code",
        "outputId": "87b79b35-377e-4b2a-ab92-69524a6fed66",
        "colab": {
          "base_uri": "https://localhost:8080/",
          "height": 386
        }
      },
      "source": [
        "# Create neural network using keras API\n",
        "# Sequential() does linear stacking of layers\n",
        "model_DNN = keras.models.Sequential()\n",
        "# Hidden layer definitions\n",
        "model_DNN.add(keras.layers.Dense(units=25, activation='relu', input_shape=\n",
        "X_train.shape[1:]))\n",
        "# Dropout layer with 10% of nodes being discarded in each training step.\n",
        "model_DNN.add(keras.layers.Dropout(0.1))\n",
        "model_DNN.add(keras.layers.Dense(units=20, activation='relu'))\n",
        "# Dropout layer with 10% of nodes being discarded in each training step.\n",
        "model_DNN.add(keras.layers.Dropout(0.1))\n",
        "model_DNN.add(keras.layers.Dense(units= 15, activation='relu'))\n",
        "model_DNN.add(keras.layers.Dense(units=10, activation='relu'))\n",
        "# Output layer definitions\n",
        "model_DNN.add(keras.layers.Dense(units=7, activation='sigmoid'))\n",
        "# Print the summary of network architecture\n",
        "model_DNN.summary()"
      ],
      "execution_count": 40,
      "outputs": [
        {
          "output_type": "stream",
          "text": [
            "Model: \"sequential_3\"\n",
            "_________________________________________________________________\n",
            "Layer (type)                 Output Shape              Param #   \n",
            "=================================================================\n",
            "dense_15 (Dense)             (None, 25)                1375      \n",
            "_________________________________________________________________\n",
            "dropout_6 (Dropout)          (None, 25)                0         \n",
            "_________________________________________________________________\n",
            "dense_16 (Dense)             (None, 20)                520       \n",
            "_________________________________________________________________\n",
            "dropout_7 (Dropout)          (None, 20)                0         \n",
            "_________________________________________________________________\n",
            "dense_17 (Dense)             (None, 15)                315       \n",
            "_________________________________________________________________\n",
            "dense_18 (Dense)             (None, 10)                160       \n",
            "_________________________________________________________________\n",
            "dense_19 (Dense)             (None, 7)                 77        \n",
            "=================================================================\n",
            "Total params: 2,447\n",
            "Trainable params: 2,447\n",
            "Non-trainable params: 0\n",
            "_________________________________________________________________\n"
          ],
          "name": "stdout"
        }
      ]
    },
    {
      "cell_type": "code",
      "metadata": {
        "id": "v4umct5kg9ft",
        "colab_type": "code",
        "colab": {}
      },
      "source": [
        "model_DNN.compile(loss='sparse_categorical_crossentropy',\n",
        "optimizer='adam', metrics=['accuracy'])"
      ],
      "execution_count": 0,
      "outputs": []
    },
    {
      "cell_type": "code",
      "metadata": {
        "id": "3ft8YKfchJ95",
        "colab_type": "code",
        "outputId": "93abb93c-62ba-43ea-b2b1-700db959460a",
        "colab": {
          "base_uri": "https://localhost:8080/",
          "height": 374
        }
      },
      "source": [
        "model_DNN.fit(x=X_train_std, y=y_train, validation_split=0.1, epochs=50,batch_size=32)"
      ],
      "execution_count": 43,
      "outputs": [
        {
          "output_type": "stream",
          "text": [
            "Train on 418328 samples, validate on 46481 samples\n",
            "Epoch 1/50\n"
          ],
          "name": "stdout"
        },
        {
          "output_type": "error",
          "ename": "InvalidArgumentError",
          "evalue": "ignored",
          "traceback": [
            "\u001b[0;31m---------------------------------------------------------------------------\u001b[0m",
            "\u001b[0;31mInvalidArgumentError\u001b[0m                      Traceback (most recent call last)",
            "\u001b[0;32m<ipython-input-43-720acc8fde6f>\u001b[0m in \u001b[0;36m<module>\u001b[0;34m()\u001b[0m\n\u001b[0;32m----> 1\u001b[0;31m \u001b[0mmodel_DNN\u001b[0m\u001b[0;34m.\u001b[0m\u001b[0mfit\u001b[0m\u001b[0;34m(\u001b[0m\u001b[0mx\u001b[0m\u001b[0;34m=\u001b[0m\u001b[0mX_train_std\u001b[0m\u001b[0;34m,\u001b[0m \u001b[0my\u001b[0m\u001b[0;34m=\u001b[0m\u001b[0my_train\u001b[0m\u001b[0;34m,\u001b[0m \u001b[0mvalidation_split\u001b[0m\u001b[0;34m=\u001b[0m\u001b[0;36m0.1\u001b[0m\u001b[0;34m,\u001b[0m \u001b[0mepochs\u001b[0m\u001b[0;34m=\u001b[0m\u001b[0;36m50\u001b[0m\u001b[0;34m,\u001b[0m\u001b[0mbatch_size\u001b[0m\u001b[0;34m=\u001b[0m\u001b[0;36m32\u001b[0m\u001b[0;34m)\u001b[0m\u001b[0;34m\u001b[0m\u001b[0;34m\u001b[0m\u001b[0m\n\u001b[0m",
            "\u001b[0;32m/usr/local/lib/python3.6/dist-packages/tensorflow_core/python/keras/engine/training.py\u001b[0m in \u001b[0;36mfit\u001b[0;34m(self, x, y, batch_size, epochs, verbose, callbacks, validation_split, validation_data, shuffle, class_weight, sample_weight, initial_epoch, steps_per_epoch, validation_steps, validation_freq, max_queue_size, workers, use_multiprocessing, **kwargs)\u001b[0m\n\u001b[1;32m    725\u001b[0m         \u001b[0mmax_queue_size\u001b[0m\u001b[0;34m=\u001b[0m\u001b[0mmax_queue_size\u001b[0m\u001b[0;34m,\u001b[0m\u001b[0;34m\u001b[0m\u001b[0;34m\u001b[0m\u001b[0m\n\u001b[1;32m    726\u001b[0m         \u001b[0mworkers\u001b[0m\u001b[0;34m=\u001b[0m\u001b[0mworkers\u001b[0m\u001b[0;34m,\u001b[0m\u001b[0;34m\u001b[0m\u001b[0;34m\u001b[0m\u001b[0m\n\u001b[0;32m--> 727\u001b[0;31m         use_multiprocessing=use_multiprocessing)\n\u001b[0m\u001b[1;32m    728\u001b[0m \u001b[0;34m\u001b[0m\u001b[0m\n\u001b[1;32m    729\u001b[0m   def evaluate(self,\n",
            "\u001b[0;32m/usr/local/lib/python3.6/dist-packages/tensorflow_core/python/keras/engine/training_arrays.py\u001b[0m in \u001b[0;36mfit\u001b[0;34m(self, model, x, y, batch_size, epochs, verbose, callbacks, validation_split, validation_data, shuffle, class_weight, sample_weight, initial_epoch, steps_per_epoch, validation_steps, validation_freq, **kwargs)\u001b[0m\n\u001b[1;32m    673\u001b[0m         \u001b[0mvalidation_steps\u001b[0m\u001b[0;34m=\u001b[0m\u001b[0mvalidation_steps\u001b[0m\u001b[0;34m,\u001b[0m\u001b[0;34m\u001b[0m\u001b[0;34m\u001b[0m\u001b[0m\n\u001b[1;32m    674\u001b[0m         \u001b[0mvalidation_freq\u001b[0m\u001b[0;34m=\u001b[0m\u001b[0mvalidation_freq\u001b[0m\u001b[0;34m,\u001b[0m\u001b[0;34m\u001b[0m\u001b[0;34m\u001b[0m\u001b[0m\n\u001b[0;32m--> 675\u001b[0;31m         steps_name='steps_per_epoch')\n\u001b[0m\u001b[1;32m    676\u001b[0m \u001b[0;34m\u001b[0m\u001b[0m\n\u001b[1;32m    677\u001b[0m   def evaluate(self,\n",
            "\u001b[0;32m/usr/local/lib/python3.6/dist-packages/tensorflow_core/python/keras/engine/training_arrays.py\u001b[0m in \u001b[0;36mmodel_iteration\u001b[0;34m(model, inputs, targets, sample_weights, batch_size, epochs, verbose, callbacks, val_inputs, val_targets, val_sample_weights, shuffle, initial_epoch, steps_per_epoch, validation_steps, validation_freq, mode, validation_in_fit, prepared_feed_values_from_dataset, steps_name, **kwargs)\u001b[0m\n\u001b[1;32m    392\u001b[0m \u001b[0;34m\u001b[0m\u001b[0m\n\u001b[1;32m    393\u001b[0m         \u001b[0;31m# Get outputs.\u001b[0m\u001b[0;34m\u001b[0m\u001b[0;34m\u001b[0m\u001b[0;34m\u001b[0m\u001b[0m\n\u001b[0;32m--> 394\u001b[0;31m         \u001b[0mbatch_outs\u001b[0m \u001b[0;34m=\u001b[0m \u001b[0mf\u001b[0m\u001b[0;34m(\u001b[0m\u001b[0mins_batch\u001b[0m\u001b[0;34m)\u001b[0m\u001b[0;34m\u001b[0m\u001b[0;34m\u001b[0m\u001b[0m\n\u001b[0m\u001b[1;32m    395\u001b[0m         \u001b[0;32mif\u001b[0m \u001b[0;32mnot\u001b[0m \u001b[0misinstance\u001b[0m\u001b[0;34m(\u001b[0m\u001b[0mbatch_outs\u001b[0m\u001b[0;34m,\u001b[0m \u001b[0mlist\u001b[0m\u001b[0;34m)\u001b[0m\u001b[0;34m:\u001b[0m\u001b[0;34m\u001b[0m\u001b[0;34m\u001b[0m\u001b[0m\n\u001b[1;32m    396\u001b[0m           \u001b[0mbatch_outs\u001b[0m \u001b[0;34m=\u001b[0m \u001b[0;34m[\u001b[0m\u001b[0mbatch_outs\u001b[0m\u001b[0;34m]\u001b[0m\u001b[0;34m\u001b[0m\u001b[0;34m\u001b[0m\u001b[0m\n",
            "\u001b[0;32m/usr/local/lib/python3.6/dist-packages/tensorflow_core/python/keras/backend.py\u001b[0m in \u001b[0;36m__call__\u001b[0;34m(self, inputs)\u001b[0m\n\u001b[1;32m   3474\u001b[0m \u001b[0;34m\u001b[0m\u001b[0m\n\u001b[1;32m   3475\u001b[0m     fetched = self._callable_fn(*array_vals,\n\u001b[0;32m-> 3476\u001b[0;31m                                 run_metadata=self.run_metadata)\n\u001b[0m\u001b[1;32m   3477\u001b[0m     \u001b[0mself\u001b[0m\u001b[0;34m.\u001b[0m\u001b[0m_call_fetch_callbacks\u001b[0m\u001b[0;34m(\u001b[0m\u001b[0mfetched\u001b[0m\u001b[0;34m[\u001b[0m\u001b[0;34m-\u001b[0m\u001b[0mlen\u001b[0m\u001b[0;34m(\u001b[0m\u001b[0mself\u001b[0m\u001b[0;34m.\u001b[0m\u001b[0m_fetches\u001b[0m\u001b[0;34m)\u001b[0m\u001b[0;34m:\u001b[0m\u001b[0;34m]\u001b[0m\u001b[0;34m)\u001b[0m\u001b[0;34m\u001b[0m\u001b[0;34m\u001b[0m\u001b[0m\n\u001b[1;32m   3478\u001b[0m     output_structure = nest.pack_sequence_as(\n",
            "\u001b[0;32m/usr/local/lib/python3.6/dist-packages/tensorflow_core/python/client/session.py\u001b[0m in \u001b[0;36m__call__\u001b[0;34m(self, *args, **kwargs)\u001b[0m\n\u001b[1;32m   1470\u001b[0m         ret = tf_session.TF_SessionRunCallable(self._session._session,\n\u001b[1;32m   1471\u001b[0m                                                \u001b[0mself\u001b[0m\u001b[0;34m.\u001b[0m\u001b[0m_handle\u001b[0m\u001b[0;34m,\u001b[0m \u001b[0margs\u001b[0m\u001b[0;34m,\u001b[0m\u001b[0;34m\u001b[0m\u001b[0;34m\u001b[0m\u001b[0m\n\u001b[0;32m-> 1472\u001b[0;31m                                                run_metadata_ptr)\n\u001b[0m\u001b[1;32m   1473\u001b[0m         \u001b[0;32mif\u001b[0m \u001b[0mrun_metadata\u001b[0m\u001b[0;34m:\u001b[0m\u001b[0;34m\u001b[0m\u001b[0;34m\u001b[0m\u001b[0m\n\u001b[1;32m   1474\u001b[0m           \u001b[0mproto_data\u001b[0m \u001b[0;34m=\u001b[0m \u001b[0mtf_session\u001b[0m\u001b[0;34m.\u001b[0m\u001b[0mTF_GetBuffer\u001b[0m\u001b[0;34m(\u001b[0m\u001b[0mrun_metadata_ptr\u001b[0m\u001b[0;34m)\u001b[0m\u001b[0;34m\u001b[0m\u001b[0;34m\u001b[0m\u001b[0m\n",
            "\u001b[0;31mInvalidArgumentError\u001b[0m: Received a label value of 7 which is outside the valid range of [0, 7).  Label values: 1 1 2 2 2 2 2 2 7 6 2 1 1 2 2 6 2 1 1 1 2 2 1 2 2 2 2 2 1 1 1 3\n\t [[{{node loss_3/dense_19_loss/SparseSoftmaxCrossEntropyWithLogits/SparseSoftmaxCrossEntropyWithLogits}}]]"
          ]
        }
      ]
    },
    {
      "cell_type": "code",
      "metadata": {
        "id": "LaocYaqHhQB2",
        "colab_type": "code",
        "colab": {}
      },
      "source": [
        "test_loss, test_accuracy = model_DNN.evaluate(x=X_test_std, y=y_test)\n",
        "print(test_loss,test_accuracy)"
      ],
      "execution_count": 0,
      "outputs": []
    },
    {
      "cell_type": "code",
      "metadata": {
        "id": "XqtA_m3jd1qz",
        "colab_type": "code",
        "colab": {}
      },
      "source": [
        ""
      ],
      "execution_count": 0,
      "outputs": []
    }
  ]
}